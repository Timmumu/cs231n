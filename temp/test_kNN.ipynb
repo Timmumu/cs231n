{
 "cells": [
  {
   "cell_type": "code",
   "execution_count": 8,
   "metadata": {
    "pycharm": {
     "is_executing": false
    }
   },
   "outputs": [
    {
     "name": "stdout",
     "text": [
      "[[1.73205081 5.19615242 1.73205081 1.73205081 5.19615242 1.73205081]\n",
      " [0.         3.46410162 0.         0.         3.46410162 0.        ]\n",
      " [3.31662479 6.55743852 3.31662479 3.31662479 6.55743852 3.31662479]]\n"
     ],
     "output_type": "stream"
    }
   ],
   "source": [
    "# exceplictly one loop\n",
    "import numpy as np\n",
    "# Y.row / X.row must be interger\n",
    "X = [[1,2,3],       # 3 x 3\n",
    "     [2,3,4],\n",
    "     [1,2,1]]\n",
    "Y = [[2,3,4],       \n",
    "     [4,5,6],\n",
    "     [2,3,4]]\n",
    "Y = np.tile(Y,(2,1))    # 6 x 3\n",
    "X = np.array(X)\n",
    "dists = np.zeros((3,6))\n",
    "for i in range(3):\n",
    "    X_piece = X[i]\n",
    "    X_piece = np.tile(X_piece,(6,1))\n",
    "    diff1 = ((X_piece - Y)**2).sum(axis=1)\n",
    "    diff1 = np.sqrt(diff1)\n",
    "    dists[i,:] = diff1\n",
    "print(dists)"
   ]
  },
  {
   "cell_type": "code",
   "execution_count": 9,
   "metadata": {
    "pycharm": {
     "is_executing": false
    }
   },
   "outputs": [
    {
     "name": "stdout",
     "text": [
      "[[1.73205081 5.19615242 1.73205081 1.73205081 5.19615242 1.73205081]\n",
      " [0.         3.46410162 0.         0.         3.46410162 0.        ]\n",
      " [3.31662479 6.55743852 3.31662479 3.31662479 6.55743852 3.31662479]]\n"
     ],
     "output_type": "stream"
    }
   ],
   "source": [
    "A = np.sum(X**2, axis=1)\n",
    "A = A.reshape(3,1)\n",
    "B = np.sum(Y**2, axis=1)\n",
    "B = B.reshape(1,6)\n",
    "C = A+B\n",
    "D = np.dot(X, Y.T)\n",
    "E = np.sqrt(C-2*D)\n",
    "print(E)"
   ]
  },
  {
   "cell_type": "code",
   "execution_count": 10,
   "metadata": {
    "pycharm": {
     "is_executing": false
    }
   },
   "outputs": [
    {
     "name": "stdout",
     "text": [
      "[[ 43  91  43  43  91  43]\n",
      " [ 58 106  58  58 106  58]\n",
      " [ 35  83  35  35  83  35]]\n",
      "[[20 32 20 20 32 20]\n",
      " [29 47 29 29 47 29]\n",
      " [12 20 12 12 20 12]]\n",
      "[[1.73205081 5.19615242 1.73205081 1.73205081 5.19615242 1.73205081]\n",
      " [0.         3.46410162 0.         0.         3.46410162 0.        ]\n",
      " [3.31662479 6.55743852 3.31662479 3.31662479 6.55743852 3.31662479]]\n"
     ],
     "output_type": "stream"
    }
   ],
   "source": [
    "import numpy as np\n",
    "A = np.array([29, 77, 29, 29, 77, 29])\n",
    "B = np.array([14 ,29  ,6])\n",
    "A1 = A.reshape(1,6)\n",
    "B1 = B.reshape(3,1)\n",
    "C = A1 + B1 \n",
    "D = np.dot(X,Y.T)\n",
    "print(C)\n",
    "print(D)\n",
    "E = C- 2* D\n",
    "E = np.sqrt(E)\n",
    "print(E)"
   ]
  },
  {
   "cell_type": "code",
   "execution_count": 11,
   "metadata": {
    "pycharm": {
     "is_executing": false
    }
   },
   "outputs": [
    {
     "name": "stdout",
     "text": [
      "[[ 4  8  7]\n",
      " [ 7 14 13]]\n"
     ],
     "output_type": "stream"
    }
   ],
   "source": [
    "X = np.array([[1,2],[2,3]]).reshape(2,2)\n",
    "Y = np.array([[2,4,5],[1,2,1]]).reshape(2,3)\n",
    "print(np.dot(X,Y))\n",
    "# print(np.matmul(X*Y))"
   ]
  },
  {
   "cell_type": "code",
   "execution_count": 12,
   "metadata": {
    "pycharm": {
     "is_executing": false
    }
   },
   "outputs": [
    {
     "name": "stdout",
     "text": [
      "[1 2]\n"
     ],
     "output_type": "stream"
    }
   ],
   "source": [
    "a = [[1,0],\n",
    "     [0,1]] \n",
    "b = [1,2]\n",
    "print (np.matmul(b,a))"
   ]
  },
  {
   "cell_type": "code",
   "execution_count": 19,
   "metadata": {
    "pycharm": {
     "is_executing": false
    }
   },
   "outputs": [
    {
     "name": "stdout",
     "text": [
      "[[111.78998166 152.59423318 268.87543584 161.2141433    5.19615242\n",
      "    1.73205081]\n",
      " [300.81389596 110.58480908  34.64101615 370.90969251   3.46410162\n",
      "    0.        ]\n",
      " [  3.31662479   6.55743852   3.31662479   3.31662479   6.55743852\n",
      "    3.31662479]]\n",
      "[[111.78998166 152.59423318 268.87543584 161.2141433 ]\n",
      " [300.81389596 110.58480908  34.64101615 370.90969251]]\n"
     ],
     "output_type": "stream"
    }
   ],
   "source": [
    "import numpy as np\n",
    "\n",
    "A = np.array([[158, 112,  49], \n",
    "     [235, 235, 235]])\n",
    "\n",
    "B = np.array([[ 59,  62,  63], \n",
    "     [154, 177, 187,], \n",
    "     [255, 255, 255], \n",
    "     [ 28,  25,  10]])\n",
    "\n",
    "for i in range(2):\n",
    "    for j in range(4):\n",
    "        DiffMatrix = np.subtract(A[i, :], B[j, :])\n",
    "        DiffMatrixSq = np.square(DiffMatrix)\n",
    "        DiffMatrixSqSum = DiffMatrixSq.sum(axis=0)  # axis = 0: sum all columns\n",
    "        dists[i, j] = np.sqrt(DiffMatrixSqSum)\n",
    "print(dists)                \n",
    "\n",
    "A1 = np.sum(A**2, axis=1).reshape(2,1)\n",
    "B1 = np.sum(B**2, axis=1).reshape(1,4)\n",
    "C = A1 + B1\n",
    "D = np.dot(A,B.T) \n",
    "E_twoloop = C- 2* D\n",
    "E_twoloop = np.sqrt(E_twoloop)\n",
    "print(E_twoloop)"
   ]
  }
 ],
 "metadata": {
  "kernelspec": {
   "name": "python37364bit15eb338702b44d9bafd46569fcb03844",
   "language": "python",
   "display_name": "Python 3.7.3 64-bit"
  },
  "language_info": {
   "codemirror_mode": {
    "name": "ipython",
    "version": 2
   },
   "file_extension": ".py",
   "mimetype": "text/x-python",
   "name": "python",
   "nbconvert_exporter": "python",
   "pygments_lexer": "ipython2",
   "version": "3.7.6-final"
  },
  "pycharm": {
   "stem_cell": {
    "cell_type": "raw",
    "source": [],
    "metadata": {
     "collapsed": false
    }
   }
  }
 },
 "nbformat": 4,
 "nbformat_minor": 0
}