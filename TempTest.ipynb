{
 "cells": [
  {
   "cell_type": "code",
   "execution_count": 14,
   "outputs": [
    {
     "name": "stdout",
     "text": [
      "[[2, 3, 4], [5, 6, 7]]\n",
      "[[2 3 4]\n",
      " [5 6 7]\n",
      " [2 3 4]\n",
      " [5 6 7]]\n",
      "(4, 3)\n"
     ],
     "output_type": "stream"
    }
   ],
   "source": [
    "# 2 x 3 - 20 x 3  = 2 x 20\n",
    "import numpy as np\n",
    "\n",
    "X = [[1,2,3],     # test: 2 x 3   \n",
    "     [2,3,4]]\n",
    "X = np.asarray(X)\n",
    "Y = [[2,3,4],      \n",
    "     [5,6,7]]\n",
    "print(Y)\n",
    "\n",
    "Y = np.tile(Y,(2,1))    # train: 4 x 3    \n",
    "print(Y)\n",
    "# X- Y = (2,20)\n",
    "print(Y.shape)"
   ],
   "metadata": {
    "collapsed": false,
    "pycharm": {
     "name": "#%%\n",
     "is_executing": false
    }
   }
  },
  {
   "cell_type": "code",
   "execution_count": 46,
   "outputs": [
    {
     "name": "stdout",
     "text": [
      "sortedDistIndicies [3 1 4 0 5 2]\n",
      "z2sort [1 4 0 3 5 2]\n"
     ],
     "output_type": "stream"
    }
   ],
   "source": [
    "Z = [3,1,6,1,2,3]\n",
    "Z = np.array(Z)\n",
    "Z2 = [3,1,6,4,2,5]\n",
    "# kind : {'quicksort', 'mergesort', 'heapsort', 'stable'}, optional\n",
    "sortedDistIndicies = Z.argsort(kind = 'heapsort')   \n",
    "print('sortedDistIndicies', sortedDistIndicies)                               # ndarray(3,)     # list\n",
    "\n",
    "Z2 = np.array(Z2)\n",
    "z2sort = Z2.argsort()   \n",
    "print('z2sort', z2sort)  "
   ],
   "metadata": {
    "collapsed": false,
    "pycharm": {
     "name": "#%%\n",
     "is_executing": false
    }
   }
  },
  {
   "cell_type": "code",
   "execution_count": 47,
   "outputs": [
    {
     "name": "stdout",
     "text": [
      "[[0 1 0]\n",
      " [1 2 2]\n",
      " [2 0 1]]\n"
     ],
     "output_type": "stream"
    }
   ],
   "source": [
    "x = np.array([[0, 3, 1], \n",
    "              [2, 1, 5],\n",
    "              [3, 2, 4]])\n",
    "x2 = np.argsort(x, axis=0)                  #按 列 排序\n",
    "print(x2)\n"
   ],
   "metadata": {
    "collapsed": false,
    "pycharm": {
     "name": "#%%\n",
     "is_executing": false
    }
   }
  }
 ],
 "metadata": {
  "kernelspec": {
   "name": "pycharm-6c05a214",
   "language": "python",
   "display_name": "PyCharm (assignment1)"
  },
  "language_info": {
   "codemirror_mode": {
    "name": "ipython",
    "version": 2
   },
   "file_extension": ".py",
   "mimetype": "text/x-python",
   "name": "python",
   "nbconvert_exporter": "python",
   "pygments_lexer": "ipython2",
   "version": "2.7.6"
  },
  "pycharm": {
   "stem_cell": {
    "cell_type": "raw",
    "source": [],
    "metadata": {
     "collapsed": false
    }
   }
  }
 },
 "nbformat": 4,
 "nbformat_minor": 0
}