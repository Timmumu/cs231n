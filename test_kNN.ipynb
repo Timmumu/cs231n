{
 "cells": [
  {
   "cell_type": "code",
   "execution_count": 32,
   "metadata": {},
   "outputs": [],
   "source": [
    "# unit test for one loop computation"
   ]
  },
  {
   "cell_type": "code",
   "execution_count": 61,
   "metadata": {},
   "outputs": [
    {
     "name": "stdout",
     "output_type": "stream",
     "text": "i:  0 diff [1 1 1 1]\ni:  1 diff [13 13 13 13]\n"
    }
   ],
   "source": [
    "import numpy as np\n",
    "\n",
    "X = [[1,2,3,4],\n",
    "     [2,3,4,5]]\n",
    "Y = [[2,3,4,5],\n",
    "     [4,5,6,7],\n",
    "     [4,5,6,7],\n",
    "     [2,3,4,5]]\n",
    "Y = np.array(Y)\n",
    "X=  np.array(X)\n",
    "Z = int(Y.shape[0]/X.shape[0])\n",
    "for i in range(int(Y.shape[0]/X.shape[0])):\n",
    "    diff = X - Y[2*i:(2*i+1),:]\n",
    "    diff = diff**2\n",
    "    diff = diff.sum(axis = 0)\n",
    "    print('i: ', i, 'diff', diff)\n"
   ]
  }
 ],
 "metadata": {
  "kernelspec": {
   "name": "pycharm-6c05a214",
   "language": "python",
   "display_name": "PyCharm (assignment1)"
  },
  "language_info": {
   "codemirror_mode": {
    "name": "ipython",
    "version": 2
   },
   "file_extension": ".py",
   "mimetype": "text/x-python",
   "name": "python",
   "nbconvert_exporter": "python",
   "pygments_lexer": "ipython2",
   "version": "3.7.6-final"
  },
  "pycharm": {
   "stem_cell": {
    "cell_type": "raw",
    "source": [],
    "metadata": {
     "collapsed": false
    }
   }
  }
 },
 "nbformat": 4,
 "nbformat_minor": 0
}