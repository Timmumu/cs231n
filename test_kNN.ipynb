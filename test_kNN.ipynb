{
 "cells": [
  {
   "cell_type": "code",
   "execution_count": 39,
   "metadata": {},
   "outputs": [
    {
     "name": "stdout",
     "output_type": "stream",
     "text": "[[ 3. 27.  3.  3. 27.  3.]\n [ 0. 12.  0.  0. 12.  0.]\n [11. 43. 11. 11. 43. 11.]]\n"
    }
   ],
   "source": [
    "# exceplictly one loop\n",
    "import numpy as np\n",
    "# Y.row / X.row must be interger\n",
    "X = [[1,2,3],       # 3 x 3\n",
    "     [2,3,4],\n",
    "     [1,2,1]]\n",
    "Y = [[2,3,4],       \n",
    "     [4,5,6],\n",
    "     [2,3,4]]\n",
    "Y = np.tile(Y,(2,1))    # 6 x 3\n",
    "X = np.array(X)\n",
    "dists = np.zeros((3,6))\n",
    "for i in range(3):\n",
    "    X_piece = X[i]\n",
    "    X_piece = np.tile(X_piece,(6,1))\n",
    "    diff1 = ((X_piece - Y)**2).sum(axis=1)\n",
    "    # diff2 = diff1.sum(axis= 1)\n",
    "    dists[i,:] = diff1\n",
    "print(dists)"
   ]
  },
  {
   "cell_type": "markdown",
   "metadata": {},
   "source": [
    "$$A=\n",
    "\\left[\n",
    " \\begin{matrix}\n",
    "   X_{1,1}^2 & X & X\\\\\n",
    "   2 & 3 & 4\\\\\n",
    "   1 & 2 & 1\n",
    "  \\end{matrix} \n",
    "\\right ]\n",
    "$$\n"
   ]
  },
  {
   "cell_type": "code",
   "execution_count": 48,
   "metadata": {},
   "outputs": [
    {
     "name": "stdout",
     "output_type": "stream",
     "text": "[[ 4  9 16]\n [16 25 36]\n [ 4  9 16]\n [ 4  9 16]\n [16 25 36]\n [ 4  9 16]]\n(6,) [ 353 2177  353  353 2177  353]\n(1, 6) [[ 353 2177  353  353 2177  353]]\n"
    }
   ],
   "source": [
    "temp1 = Y**2\n",
    "temp2 = np.sum(temp1,axis=1)\n",
    "temp3 = temp2.reshape(1,6)\n",
    "print(Y)\n",
    "print(temp2.shape, temp2)\n",
    "print(temp3.shape,temp3)"
   ]
  },
  {
   "cell_type": "code",
   "execution_count": 35,
   "metadata": {},
   "outputs": [
    {
     "name": "stdout",
     "output_type": "stream",
     "text": "1st dists:  [[31. 83. 31. 31. 83. 31.]\n [29. 81. 29. 29. 81. 29.]\n [33. 84. 33. 33. 84. 33.]]\n2nd dists:  [[ 45.  97.  45.  45.  97.  45.]\n [ 58. 110.  58.  58. 110.  58.]\n [ 39.  90.  39.  39.  90.  39.]]\n3rd dists:  [[ 5. 33.  5.  5. 33.  5.]\n [ 0. 16.  0.  0. 16.  0.]\n [15. 50. 15. 15. 50. 15.]]\n4th dists:  [[2. 6. 2. 2. 6. 2.]\n [0. 4. 0. 0. 4. 0.]\n [4. 7. 4. 4. 7. 4.]]\n"
    }
   ],
   "source": [
    "dists += np.sum(Y ** 2, axis=1).reshape(1, 6)\n",
    "dists = np.around(dists)\n",
    "print('1st dists: ', dists)\n",
    "dists += np.sum(X ** 2, axis=1).reshape(3, 1)\n",
    "dists = np.around(dists)\n",
    "print('2nd dists: ', dists)\n",
    "dists -= 2 * np.dot(X, Y.T)\n",
    "dists = np.around(dists)\n",
    "print('3rd dists: ', dists)\n",
    "dists = np.sqrt(dists)\n",
    "dists = np.around(dists)\n",
    "print('4th dists: ', dists)"
   ]
  },
  {
   "cell_type": "code",
   "execution_count": null,
   "metadata": {},
   "outputs": [],
   "source": [
    "import numpy as np\n",
    "dists +=  np.sum(self.X_train ** 2, axis=1).reshape(1, num_train)\n",
    "dists += np.sum(X ** 2, axis=1).reshape(num_test, 1) # reshape for broadcasting\n",
    "dists -= 2 * np.dot(X, self.X_train.T)\n",
    "dists = np.sqrt(dists)"
   ]
  },
  {
   "cell_type": "code",
   "execution_count": 33,
   "metadata": {},
   "outputs": [
    {
     "name": "stdout",
     "output_type": "stream",
     "text": "[ 0.  0. 10. 20.]\n"
    }
   ],
   "source": [
    "a=[0.5,0.1,12,21]\n",
    "newArray = np.around(a, decimals= -1)\n",
    "print(newArray)"
   ]
  }
 ],
 "metadata": {
  "kernelspec": {
   "name": "pycharm-6c05a214",
   "language": "python",
   "display_name": "PyCharm (assignment1)"
  },
  "language_info": {
   "codemirror_mode": {
    "name": "ipython",
    "version": 2
   },
   "file_extension": ".py",
   "mimetype": "text/x-python",
   "name": "python",
   "nbconvert_exporter": "python",
   "pygments_lexer": "ipython2",
   "version": "3.7.6-final"
  },
  "pycharm": {
   "stem_cell": {
    "cell_type": "raw",
    "source": [],
    "metadata": {
     "collapsed": false
    }
   }
  }
 },
 "nbformat": 4,
 "nbformat_minor": 0
}