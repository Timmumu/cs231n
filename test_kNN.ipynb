{
 "cells": [
  {
   "cell_type": "code",
   "execution_count": 180,
   "metadata": {},
   "outputs": [
    {
     "name": "stdout",
     "output_type": "stream",
     "text": "[[ 3. 27.  3.  3. 27.  3.]\n [ 0. 12.  0.  0. 12.  0.]\n [11. 43. 11. 11. 43. 11.]]\n"
    }
   ],
   "source": [
    "import numpy as np\n",
    "# Y.row / X.row must be interger\n",
    "X = [[1,2,3],       # 3 x 3\n",
    "     [2,3,4],\n",
    "     [1,2,1]]\n",
    "Y = [[2,3,4],       \n",
    "     [4,5,6],\n",
    "     [2,3,4]]\n",
    "Y = np.tile(Y,(2,1))    # 6 x 3\n",
    "X = np.array(X)\n",
    "dists = np.zeros((3,6))\n",
    "for i in range(3):\n",
    "    X_piece = X[[i]]\n",
    "    X_piece =  np.tile(X_piece,(Y.shape[0],1))\n",
    "    diff1 = ((X_piece - Y)**2).sum(axis=1)\n",
    "    # diff2 = diff1.sum(axis= 1)\n",
    "    dists[i,:] = diff1\n",
    "print(dists)"
   ]
  },
  {
   "cell_type": "code",
   "execution_count": 164,
   "metadata": {},
   "outputs": [
    {
     "name": "stdout",
     "output_type": "stream",
     "text": "[[[ 0  1  2  3]\n  [ 4  5  6  7]\n  [ 8  9 10 11]]\n\n [[12 13 14 15]\n  [16 17 18 19]\n  [20 21 22 23]]]\n[[[ 0  1  2  3]\n  [12 13 14 15]]\n\n [[ 4  5  6  7]\n  [16 17 18 19]]\n\n [[ 8  9 10 11]\n  [20 21 22 23]]]\n"
    }
   ],
   "source": [
    "import numpy as np\n",
    "\n",
    "arr = np.arange(24).reshape(2,3,4) #生成一个4行5列的数组\n",
    "\n",
    "print(arr)\n",
    "# print(arr.T) #求转置\n",
    "print(arr.transpose((1,0,2)))\n"
   ]
  }
 ],
 "metadata": {
  "kernelspec": {
   "name": "pycharm-6c05a214",
   "language": "python",
   "display_name": "PyCharm (assignment1)"
  },
  "language_info": {
   "codemirror_mode": {
    "name": "ipython",
    "version": 2
   },
   "file_extension": ".py",
   "mimetype": "text/x-python",
   "name": "python",
   "nbconvert_exporter": "python",
   "pygments_lexer": "ipython2",
   "version": "3.7.6-final"
  },
  "pycharm": {
   "stem_cell": {
    "cell_type": "raw",
    "source": [],
    "metadata": {
     "collapsed": false
    }
   }
  }
 },
 "nbformat": 4,
 "nbformat_minor": 0
}